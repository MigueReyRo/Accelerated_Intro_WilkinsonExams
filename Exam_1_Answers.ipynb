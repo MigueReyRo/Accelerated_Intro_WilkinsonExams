{
 "cells": [
  {
   "cell_type": "markdown",
   "metadata": {},
   "source": [
    "# Exam 1 Answers Miguel Rey Romero"
   ]
  },
  {
   "cell_type": "markdown",
   "metadata": {},
   "source": [
    "# Problem 2"
   ]
  },
  {
   "cell_type": "code",
   "execution_count": 1,
   "metadata": {
    "scrolled": false
   },
   "outputs": [
    {
     "name": "stdout",
     "output_type": "stream",
     "text": [
      "total 2.4M\n",
      "-rw-rw-r-- 1 osboxes osboxes 1.2M Sep  6 09:52  conv.txt\n",
      "-rw-rw-r-- 1 osboxes osboxes  147 Sep  6 09:52  DISCLAIMER\n",
      "-rw-rw-r-- 1 osboxes osboxes    0 Sep  6 11:07  Exam_1_Answer\n",
      "-rw-rw-r-- 1 osboxes osboxes 1.4K Sep  6 11:20  Exam_1_Answers.ipynb\n",
      "-rw-rw-r-- 1 osboxes osboxes 5.5K Sep  6 09:52 'Exam Week 1.ipynb'\n",
      "-rw-rw-r-- 1 osboxes osboxes 3.9K Sep  6 09:52 'Exam Week 2.ipynb'\n",
      "-rw-rw-r-- 1 osboxes osboxes 4.2K Sep  6 09:52  Germplasm.tsv\n",
      "-rw-rw-r-- 1 osboxes osboxes  141 Sep  6 09:52  how_to_convert.txt\n",
      "-rw-rw-r-- 1 osboxes osboxes 1.1K Sep  6 09:52  LICENSE\n",
      "-rw-rw-r-- 1 osboxes osboxes  637 Sep  6 09:52  LocusGene.tsv\n",
      "-rw-rw-r-- 1 osboxes osboxes 1.2M Sep  6 09:52  Locus_Germplasm_Phenotype_20130122.txt\n",
      "-rw-rw-r-- 1 osboxes osboxes  743 Sep  6 09:52  README.md\n"
     ]
    }
   ],
   "source": [
    "ls -lh"
   ]
  },
  {
   "cell_type": "markdown",
   "metadata": {},
   "source": [
    "### ls print the content of the directory.\n",
    "### The permissions of that file are: \n",
    "#### \"rw\" (read and write) to users.\n",
    "#### \"rw\" (read and write) to groups.\n",
    "#### \"r\" (read) to anyone."
   ]
  },
  {
   "cell_type": "markdown",
   "metadata": {},
   "source": [
    "# Problem 3"
   ]
  },
  {
   "cell_type": "code",
   "execution_count": 5,
   "metadata": {},
   "outputs": [
    {
     "name": "stdout",
     "output_type": "stream",
     "text": [
      "Locus_name)\tGermplasm_name\tphenotype\tpubmed_id\n"
     ]
    }
   ],
   "source": [
    "head -1 Locus_Germplasm_Phenotype_20130122.txt"
   ]
  },
  {
   "cell_type": "markdown",
   "metadata": {},
   "source": [
    "### The command head prints first 10 lines, the argument -1 prints only the first line."
   ]
  },
  {
   "cell_type": "markdown",
   "metadata": {},
   "source": [
    "# Problem 4"
   ]
  },
  {
   "cell_type": "code",
   "execution_count": 6,
   "metadata": {},
   "outputs": [
    {
     "name": "stdout",
     "output_type": "stream",
     "text": [
      "7216 Locus_Germplasm_Phenotype_20130122.txt\n"
     ]
    }
   ],
   "source": [
    "wc -l Locus_Germplasm_Phenotype_20130122.txt"
   ]
  },
  {
   "cell_type": "markdown",
   "metadata": {},
   "source": [
    "### The command wc (word count) allows for different counts, the argument -l count the lines. The Locus_Germplasm_Phenotype_20130122.txt have 7216 lines."
   ]
  },
  {
   "cell_type": "markdown",
   "metadata": {},
   "source": [
    "# Problem 5"
   ]
  },
  {
   "cell_type": "code",
   "execution_count": 1,
   "metadata": {},
   "outputs": [],
   "source": [
    "tail +2 Locus_Germplasm_Phenotype_20130122.txt > Data_Only.csv"
   ]
  },
  {
   "cell_type": "code",
   "execution_count": 2,
   "metadata": {},
   "outputs": [
    {
     "name": "stdout",
     "output_type": "stream",
     "text": [
      "7215 Data_Only.csv\n"
     ]
    }
   ],
   "source": [
    "wc -l Data_Only.csv"
   ]
  },
  {
   "cell_type": "markdown",
   "metadata": {},
   "source": [
    "### As we have removed the header, there must be one less line. As there are 7215, it is shown that we have removed a line.\n",
    "### To check that the deleted line is the header, i use the command cat Data_Only.csv, i dont show the putput because its too large."
   ]
  },
  {
   "cell_type": "markdown",
   "metadata": {},
   "source": [
    "# Problem 6"
   ]
  },
  {
   "cell_type": "code",
   "execution_count": null,
   "metadata": {},
   "outputs": [],
   "source": [
    "grep -ia \"root\" Locus_Germplasm_Phenotype_20130122.txt"
   ]
  },
  {
   "cell_type": "markdown",
   "metadata": {},
   "source": [
    "### The command grep print the lines that includes the word root, the argument -i make insensitive to cases, and the argument -a assumes that the source of the file is going to be Binary, because i dont know the original source of this file. I dont show the output because its too large."
   ]
  },
  {
   "cell_type": "markdown",
   "metadata": {},
   "source": [
    "# Problem 7"
   ]
  },
  {
   "cell_type": "code",
   "execution_count": 21,
   "metadata": {},
   "outputs": [],
   "source": [
    "grep -ia \"root\" Locus_Germplasm_Phenotype_20130122.txt | grp -E -oa 'AT[1-5]G[0-9]{5}' > Root-associated-Loci.txt"
   ]
  },
  {
   "cell_type": "markdown",
   "metadata": {},
   "source": [
    "### To search the phenotype including the word root i use the same command used in the previous exercise, then i use a pipe with other grep to print the AGI codes, this grep command is used with the argument -o (print the matches not the lines) and with the regular expresion 'AT[1-5]g[0-9]{5}', [1-5] because the number of chromosomes are between 1 and 5, and [0-9]{5} because after the g there are 5 numbers between 0 and 9. Then the strout is redirected to a file called Root-associated-Loci.txt"
   ]
  },
  {
   "cell_type": "markdown",
   "metadata": {},
   "source": [
    "# Problem 8"
   ]
  },
  {
   "cell_type": "code",
   "execution_count": 29,
   "metadata": {},
   "outputs": [],
   "source": [
    "grep -ia \"root\" Locus_Germplasm_Phenotype_20130122.txt | grep -E -oa '[0-9]+$' > Root-associated-Publications.txt"
   ]
  },
  {
   "cell_type": "markdown",
   "metadata": {},
   "source": [
    "### The first grep is the same of the previous exercises, the second grep is similar to the previous exercise but change the regular expresion, in this case contains numbers between 0 and 9, i use the symbol + because the lenght of the PID is uknown, the \"$\" is used because the ID is at the end of the line."
   ]
  },
  {
   "cell_type": "markdown",
   "metadata": {},
   "source": [
    "# Problem 9"
   ]
  },
  {
   "cell_type": "code",
   "execution_count": 53,
   "metadata": {},
   "outputs": [
    {
     "name": "stdout",
     "output_type": "stream",
     "text": [
      "   3373 1\n",
      "   1978 2\n",
      "   1746 3\n",
      "   1242 4\n",
      "   1621 5\n"
     ]
    }
   ],
   "source": [
    " grep -ia \"root\" Locus_Germplasm_Phenotype_20130122.txt |grep -E -o '[1-5]'| sort | uniq -c"
   ]
  },
  {
   "cell_type": "markdown",
   "metadata": {},
   "source": [
    "### As the genes of interest are those associated with root, i use the grep command for select this genes, to avoid the repeated chromosomes i use the command uniq, i use this command with the argument -c to print the numbers of genes are in each chromosome. The command sort its necesary to use the command uniq."
   ]
  },
  {
   "cell_type": "markdown",
   "metadata": {},
   "source": [
    "This work has been done with Sara Temiño Macaya because we are a couple and we live together. We have also delivered it late because we were travelling, and there has been a cut in the A3 road which has delayed us a little more. We are sorry for the inconvenience, thank you for your attention."
   ]
  }
 ],
 "metadata": {
  "kernelspec": {
   "display_name": "Bash",
   "language": "bash",
   "name": "bash"
  },
  "language_info": {
   "codemirror_mode": "shell",
   "file_extension": ".sh",
   "mimetype": "text/x-sh",
   "name": "bash"
  }
 },
 "nbformat": 4,
 "nbformat_minor": 2
}
